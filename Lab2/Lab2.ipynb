{
 "cells": [
  {
   "cell_type": "markdown",
   "id": "d6c75986",
   "metadata": {},
   "source": [
    "# Лабораторная работа №2\n",
    "## Обработка пропусков в данных, кодирование категориальных признаков, масштабирование данных"
   ]
  },
  {
   "cell_type": "markdown",
   "id": "0781e54b",
   "metadata": {},
   "source": [
    "## Задание:\n",
    "1. Выбрать набор данных (датасет), содержащий категориальные признаки и пропуски в данных. Для выполнения следующих пунктов можно использовать несколько различных наборов данных (один для обработки пропусков, другой для категориальных признаков и т.д.)\n",
    "2. Для выбранного датасета (датасетов) на основе материалов лекции решить следующие задачи:\n",
    "    - обработку пропусков в данных;\n",
    "    - кодирование категориальных признаков;\n",
    "    - масштабирование данных."
   ]
  },
  {
   "cell_type": "markdown",
   "id": "2b9975c1",
   "metadata": {},
   "source": [
    "В качестве исходных данных возьмём датасет результаты игроков в баскетбол за несколько сезонов"
   ]
  },
  {
   "cell_type": "code",
   "execution_count": 1,
   "id": "dfd0a8bd",
   "metadata": {},
   "outputs": [],
   "source": [
    "#Импорт библиотек\n",
    "import numpy as np\n",
    "import pandas as pd\n",
    "import seaborn as sns\n",
    "import matplotlib.pyplot as plt\n",
    "from sklearn.impute import SimpleImputer, MissingIndicator\n",
    "from sklearn.preprocessing import MinMaxScaler, StandardScaler, OneHotEncoder, LabelEncoder"
   ]
  },
  {
   "cell_type": "code",
   "execution_count": 2,
   "id": "23ea97dd",
   "metadata": {},
   "outputs": [],
   "source": [
    "data = pd.read_csv(\"combined_seasons.csv\")"
   ]
  },
  {
   "cell_type": "code",
   "execution_count": 4,
   "id": "0b7e9995",
   "metadata": {},
   "outputs": [
    {
     "data": {
      "text/plain": [
       "(11606, 32)"
      ]
     },
     "execution_count": 4,
     "metadata": {},
     "output_type": "execute_result"
    }
   ],
   "source": [
    "data.shape"
   ]
  },
  {
   "cell_type": "code",
   "execution_count": 5,
   "id": "8a0e5ca0",
   "metadata": {},
   "outputs": [
    {
     "data": {
      "text/html": [
       "<div>\n",
       "<style scoped>\n",
       "    .dataframe tbody tr th:only-of-type {\n",
       "        vertical-align: middle;\n",
       "    }\n",
       "\n",
       "    .dataframe tbody tr th {\n",
       "        vertical-align: top;\n",
       "    }\n",
       "\n",
       "    .dataframe thead th {\n",
       "        text-align: right;\n",
       "    }\n",
       "</style>\n",
       "<table border=\"1\" class=\"dataframe\">\n",
       "  <thead>\n",
       "    <tr style=\"text-align: right;\">\n",
       "      <th></th>\n",
       "      <th>Rk</th>\n",
       "      <th>Player</th>\n",
       "      <th>Pos</th>\n",
       "      <th>Age</th>\n",
       "      <th>Tm</th>\n",
       "      <th>G</th>\n",
       "      <th>GS</th>\n",
       "      <th>MP</th>\n",
       "      <th>FG</th>\n",
       "      <th>FGA</th>\n",
       "      <th>...</th>\n",
       "      <th>DRB</th>\n",
       "      <th>TRB</th>\n",
       "      <th>AST</th>\n",
       "      <th>STL</th>\n",
       "      <th>BLK</th>\n",
       "      <th>TOV</th>\n",
       "      <th>PF</th>\n",
       "      <th>PTS</th>\n",
       "      <th>Season</th>\n",
       "      <th>isMVP</th>\n",
       "    </tr>\n",
       "  </thead>\n",
       "  <tbody>\n",
       "    <tr>\n",
       "      <th>0</th>\n",
       "      <td>0</td>\n",
       "      <td>Tariq Abdul-Wahad</td>\n",
       "      <td>SG</td>\n",
       "      <td>24</td>\n",
       "      <td>SAC</td>\n",
       "      <td>49</td>\n",
       "      <td>49</td>\n",
       "      <td>24.6</td>\n",
       "      <td>3.6</td>\n",
       "      <td>8.3</td>\n",
       "      <td>...</td>\n",
       "      <td>2.3</td>\n",
       "      <td>3.8</td>\n",
       "      <td>1.0</td>\n",
       "      <td>1.0</td>\n",
       "      <td>0.3</td>\n",
       "      <td>1.4</td>\n",
       "      <td>2.5</td>\n",
       "      <td>9.3</td>\n",
       "      <td>1998-1999</td>\n",
       "      <td>0</td>\n",
       "    </tr>\n",
       "    <tr>\n",
       "      <th>1</th>\n",
       "      <td>1</td>\n",
       "      <td>Shareef Abdur-Rahim</td>\n",
       "      <td>SF</td>\n",
       "      <td>22</td>\n",
       "      <td>VAN</td>\n",
       "      <td>50</td>\n",
       "      <td>50</td>\n",
       "      <td>40.4</td>\n",
       "      <td>7.7</td>\n",
       "      <td>17.9</td>\n",
       "      <td>...</td>\n",
       "      <td>5.2</td>\n",
       "      <td>7.5</td>\n",
       "      <td>3.4</td>\n",
       "      <td>1.4</td>\n",
       "      <td>1.1</td>\n",
       "      <td>3.7</td>\n",
       "      <td>2.7</td>\n",
       "      <td>23.0</td>\n",
       "      <td>1998-1999</td>\n",
       "      <td>0</td>\n",
       "    </tr>\n",
       "    <tr>\n",
       "      <th>2</th>\n",
       "      <td>2</td>\n",
       "      <td>Cory Alexander</td>\n",
       "      <td>PG</td>\n",
       "      <td>25</td>\n",
       "      <td>DEN</td>\n",
       "      <td>36</td>\n",
       "      <td>4</td>\n",
       "      <td>21.6</td>\n",
       "      <td>2.7</td>\n",
       "      <td>7.2</td>\n",
       "      <td>...</td>\n",
       "      <td>1.9</td>\n",
       "      <td>2.1</td>\n",
       "      <td>3.3</td>\n",
       "      <td>1.0</td>\n",
       "      <td>0.1</td>\n",
       "      <td>1.9</td>\n",
       "      <td>2.1</td>\n",
       "      <td>7.3</td>\n",
       "      <td>1998-1999</td>\n",
       "      <td>0</td>\n",
       "    </tr>\n",
       "    <tr>\n",
       "      <th>3</th>\n",
       "      <td>3</td>\n",
       "      <td>Ray Allen*</td>\n",
       "      <td>SG</td>\n",
       "      <td>23</td>\n",
       "      <td>MIL</td>\n",
       "      <td>50</td>\n",
       "      <td>50</td>\n",
       "      <td>34.4</td>\n",
       "      <td>6.1</td>\n",
       "      <td>13.5</td>\n",
       "      <td>...</td>\n",
       "      <td>3.1</td>\n",
       "      <td>4.2</td>\n",
       "      <td>3.6</td>\n",
       "      <td>1.1</td>\n",
       "      <td>0.1</td>\n",
       "      <td>2.4</td>\n",
       "      <td>2.3</td>\n",
       "      <td>17.1</td>\n",
       "      <td>1998-1999</td>\n",
       "      <td>0</td>\n",
       "    </tr>\n",
       "    <tr>\n",
       "      <th>4</th>\n",
       "      <td>4</td>\n",
       "      <td>Peter Aluma</td>\n",
       "      <td>C</td>\n",
       "      <td>25</td>\n",
       "      <td>SAC</td>\n",
       "      <td>2</td>\n",
       "      <td>0</td>\n",
       "      <td>2.5</td>\n",
       "      <td>0.5</td>\n",
       "      <td>1.0</td>\n",
       "      <td>...</td>\n",
       "      <td>0.5</td>\n",
       "      <td>1.0</td>\n",
       "      <td>0.0</td>\n",
       "      <td>0.5</td>\n",
       "      <td>0.5</td>\n",
       "      <td>1.0</td>\n",
       "      <td>2.0</td>\n",
       "      <td>1.0</td>\n",
       "      <td>1998-1999</td>\n",
       "      <td>0</td>\n",
       "    </tr>\n",
       "  </tbody>\n",
       "</table>\n",
       "<p>5 rows × 32 columns</p>\n",
       "</div>"
      ],
      "text/plain": [
       "   Rk               Player Pos  Age   Tm   G  GS    MP   FG   FGA  ...  DRB  \\\n",
       "0   0    Tariq Abdul-Wahad  SG   24  SAC  49  49  24.6  3.6   8.3  ...  2.3   \n",
       "1   1  Shareef Abdur-Rahim  SF   22  VAN  50  50  40.4  7.7  17.9  ...  5.2   \n",
       "2   2       Cory Alexander  PG   25  DEN  36   4  21.6  2.7   7.2  ...  1.9   \n",
       "3   3           Ray Allen*  SG   23  MIL  50  50  34.4  6.1  13.5  ...  3.1   \n",
       "4   4          Peter Aluma   C   25  SAC   2   0   2.5  0.5   1.0  ...  0.5   \n",
       "\n",
       "   TRB  AST  STL  BLK  TOV   PF   PTS     Season  isMVP  \n",
       "0  3.8  1.0  1.0  0.3  1.4  2.5   9.3  1998-1999      0  \n",
       "1  7.5  3.4  1.4  1.1  3.7  2.7  23.0  1998-1999      0  \n",
       "2  2.1  3.3  1.0  0.1  1.9  2.1   7.3  1998-1999      0  \n",
       "3  4.2  3.6  1.1  0.1  2.4  2.3  17.1  1998-1999      0  \n",
       "4  1.0  0.0  0.5  0.5  1.0  2.0   1.0  1998-1999      0  \n",
       "\n",
       "[5 rows x 32 columns]"
      ]
     },
     "execution_count": 5,
     "metadata": {},
     "output_type": "execute_result"
    }
   ],
   "source": [
    "data.head()"
   ]
  },
  {
   "cell_type": "code",
   "execution_count": 6,
   "id": "2f982ee3",
   "metadata": {},
   "outputs": [
    {
     "data": {
      "text/plain": [
       "Rk           0\n",
       "Player       0\n",
       "Pos          0\n",
       "Age          0\n",
       "Tm           0\n",
       "G            0\n",
       "GS           0\n",
       "MP           0\n",
       "FG           0\n",
       "FGA          0\n",
       "FG%         53\n",
       "3P           0\n",
       "3PA          0\n",
       "3P%       1600\n",
       "2P           0\n",
       "2PA          0\n",
       "2P%        102\n",
       "eFG%        53\n",
       "FT           0\n",
       "FTA          0\n",
       "FT%        493\n",
       "ORB          0\n",
       "DRB          0\n",
       "TRB          0\n",
       "AST          0\n",
       "STL          0\n",
       "BLK          0\n",
       "TOV          0\n",
       "PF           0\n",
       "PTS          0\n",
       "Season       0\n",
       "isMVP        0\n",
       "dtype: int64"
      ]
     },
     "execution_count": 6,
     "metadata": {},
     "output_type": "execute_result"
    }
   ],
   "source": [
    "#Проверка пропусков\n",
    "data.isnull().sum()"
   ]
  },
  {
   "cell_type": "code",
   "execution_count": 7,
   "id": "cf2018af",
   "metadata": {},
   "outputs": [
    {
     "data": {
      "text/plain": [
       "Rk          int64\n",
       "Player     object\n",
       "Pos        object\n",
       "Age         int64\n",
       "Tm         object\n",
       "G           int64\n",
       "GS          int64\n",
       "MP        float64\n",
       "FG        float64\n",
       "FGA       float64\n",
       "FG%       float64\n",
       "3P        float64\n",
       "3PA       float64\n",
       "3P%       float64\n",
       "2P        float64\n",
       "2PA       float64\n",
       "2P%       float64\n",
       "eFG%      float64\n",
       "FT        float64\n",
       "FTA       float64\n",
       "FT%       float64\n",
       "ORB       float64\n",
       "DRB       float64\n",
       "TRB       float64\n",
       "AST       float64\n",
       "STL       float64\n",
       "BLK       float64\n",
       "TOV       float64\n",
       "PF        float64\n",
       "PTS       float64\n",
       "Season     object\n",
       "isMVP       int64\n",
       "dtype: object"
      ]
     },
     "execution_count": 7,
     "metadata": {},
     "output_type": "execute_result"
    }
   ],
   "source": [
    "#Проверка типов\n",
    "data.dtypes"
   ]
  },
  {
   "cell_type": "markdown",
   "id": "6028393d",
   "metadata": {},
   "source": [
    "# 1) Обработка пропусков данных"
   ]
  },
  {
   "cell_type": "markdown",
   "id": "68013f4c",
   "metadata": {},
   "source": [
    "Обработку пропусков данных можно осуществить следующими способами:"
   ]
  },
  {
   "cell_type": "markdown",
   "id": "3777e3e7",
   "metadata": {},
   "source": [
    "### Удаление столбцов или строк, в которых есть пропуски"
   ]
  },
  {
   "cell_type": "code",
   "execution_count": 8,
   "id": "4ddd629b",
   "metadata": {},
   "outputs": [
    {
     "data": {
      "text/plain": [
       "((9728, 32), (11606, 32))"
      ]
     },
     "execution_count": 8,
     "metadata": {},
     "output_type": "execute_result"
    }
   ],
   "source": [
    "dataWithoutrows = data.dropna(axis=0, how=\"any\")\n",
    "(dataWithoutrows.shape, data.shape)"
   ]
  },
  {
   "cell_type": "code",
   "execution_count": 9,
   "id": "dfa143f7",
   "metadata": {},
   "outputs": [
    {
     "data": {
      "text/plain": [
       "((11606, 27), (11606, 32))"
      ]
     },
     "execution_count": 9,
     "metadata": {},
     "output_type": "execute_result"
    }
   ],
   "source": [
    "dataWithoutcols = data.dropna(axis=1, how=\"any\")\n",
    "(dataWithoutcols.shape, data.shape)"
   ]
  },
  {
   "cell_type": "markdown",
   "id": "79fea0ff",
   "metadata": {},
   "source": [
    "### Заполнение пропусков нулями"
   ]
  },
  {
   "cell_type": "code",
   "execution_count": 10,
   "id": "3014d5b3",
   "metadata": {},
   "outputs": [
    {
     "data": {
      "text/plain": [
       "Rk        0\n",
       "Player    0\n",
       "Pos       0\n",
       "Age       0\n",
       "Tm        0\n",
       "G         0\n",
       "GS        0\n",
       "MP        0\n",
       "FG        0\n",
       "FGA       0\n",
       "FG%       0\n",
       "3P        0\n",
       "3PA       0\n",
       "3P%       0\n",
       "2P        0\n",
       "2PA       0\n",
       "2P%       0\n",
       "eFG%      0\n",
       "FT        0\n",
       "FTA       0\n",
       "FT%       0\n",
       "ORB       0\n",
       "DRB       0\n",
       "TRB       0\n",
       "AST       0\n",
       "STL       0\n",
       "BLK       0\n",
       "TOV       0\n",
       "PF        0\n",
       "PTS       0\n",
       "Season    0\n",
       "isMVP     0\n",
       "dtype: int64"
      ]
     },
     "execution_count": 10,
     "metadata": {},
     "output_type": "execute_result"
    }
   ],
   "source": [
    "dataWithNull = data.fillna(0)\n",
    "dataWithNull.isnull().sum()"
   ]
  },
  {
   "cell_type": "markdown",
   "id": "e1f5ebfa",
   "metadata": {},
   "source": [
    "### Внедрение значений"
   ]
  },
  {
   "cell_type": "code",
   "execution_count": 11,
   "id": "d77cb1f9",
   "metadata": {},
   "outputs": [
    {
     "data": {
      "text/html": [
       "<div>\n",
       "<style scoped>\n",
       "    .dataframe tbody tr th:only-of-type {\n",
       "        vertical-align: middle;\n",
       "    }\n",
       "\n",
       "    .dataframe tbody tr th {\n",
       "        vertical-align: top;\n",
       "    }\n",
       "\n",
       "    .dataframe thead th {\n",
       "        text-align: right;\n",
       "    }\n",
       "</style>\n",
       "<table border=\"1\" class=\"dataframe\">\n",
       "  <thead>\n",
       "    <tr style=\"text-align: right;\">\n",
       "      <th></th>\n",
       "      <th>FG%</th>\n",
       "      <th>3P%</th>\n",
       "      <th>2P%</th>\n",
       "      <th>eFG%</th>\n",
       "      <th>FT%</th>\n",
       "    </tr>\n",
       "  </thead>\n",
       "  <tbody>\n",
       "    <tr>\n",
       "      <th>0</th>\n",
       "      <td>0.435</td>\n",
       "      <td>0.286</td>\n",
       "      <td>0.443</td>\n",
       "      <td>0.442</td>\n",
       "      <td>0.691</td>\n",
       "    </tr>\n",
       "    <tr>\n",
       "      <th>1</th>\n",
       "      <td>0.432</td>\n",
       "      <td>0.306</td>\n",
       "      <td>0.438</td>\n",
       "      <td>0.438</td>\n",
       "      <td>0.841</td>\n",
       "    </tr>\n",
       "    <tr>\n",
       "      <th>2</th>\n",
       "      <td>0.373</td>\n",
       "      <td>0.286</td>\n",
       "      <td>0.432</td>\n",
       "      <td>0.431</td>\n",
       "      <td>0.841</td>\n",
       "    </tr>\n",
       "    <tr>\n",
       "      <th>3</th>\n",
       "      <td>0.450</td>\n",
       "      <td>0.356</td>\n",
       "      <td>0.492</td>\n",
       "      <td>0.505</td>\n",
       "      <td>0.903</td>\n",
       "    </tr>\n",
       "    <tr>\n",
       "      <th>4</th>\n",
       "      <td>0.500</td>\n",
       "      <td>NaN</td>\n",
       "      <td>0.500</td>\n",
       "      <td>0.500</td>\n",
       "      <td>NaN</td>\n",
       "    </tr>\n",
       "    <tr>\n",
       "      <th>...</th>\n",
       "      <td>...</td>\n",
       "      <td>...</td>\n",
       "      <td>...</td>\n",
       "      <td>...</td>\n",
       "      <td>...</td>\n",
       "    </tr>\n",
       "    <tr>\n",
       "      <th>11601</th>\n",
       "      <td>0.436</td>\n",
       "      <td>0.474</td>\n",
       "      <td>0.424</td>\n",
       "      <td>0.494</td>\n",
       "      <td>0.333</td>\n",
       "    </tr>\n",
       "    <tr>\n",
       "      <th>11602</th>\n",
       "      <td>0.456</td>\n",
       "      <td>0.380</td>\n",
       "      <td>0.504</td>\n",
       "      <td>0.529</td>\n",
       "      <td>0.900</td>\n",
       "    </tr>\n",
       "    <tr>\n",
       "      <th>11603</th>\n",
       "      <td>0.540</td>\n",
       "      <td>0.125</td>\n",
       "      <td>0.556</td>\n",
       "      <td>0.542</td>\n",
       "      <td>0.632</td>\n",
       "    </tr>\n",
       "    <tr>\n",
       "      <th>11604</th>\n",
       "      <td>0.567</td>\n",
       "      <td>0.000</td>\n",
       "      <td>0.593</td>\n",
       "      <td>0.567</td>\n",
       "      <td>0.776</td>\n",
       "    </tr>\n",
       "    <tr>\n",
       "      <th>11605</th>\n",
       "      <td>0.624</td>\n",
       "      <td>NaN</td>\n",
       "      <td>0.624</td>\n",
       "      <td>0.624</td>\n",
       "      <td>0.734</td>\n",
       "    </tr>\n",
       "  </tbody>\n",
       "</table>\n",
       "<p>11606 rows × 5 columns</p>\n",
       "</div>"
      ],
      "text/plain": [
       "         FG%    3P%    2P%   eFG%    FT%\n",
       "0      0.435  0.286  0.443  0.442  0.691\n",
       "1      0.432  0.306  0.438  0.438  0.841\n",
       "2      0.373  0.286  0.432  0.431  0.841\n",
       "3      0.450  0.356  0.492  0.505  0.903\n",
       "4      0.500    NaN  0.500  0.500    NaN\n",
       "...      ...    ...    ...    ...    ...\n",
       "11601  0.436  0.474  0.424  0.494  0.333\n",
       "11602  0.456  0.380  0.504  0.529  0.900\n",
       "11603  0.540  0.125  0.556  0.542  0.632\n",
       "11604  0.567  0.000  0.593  0.567  0.776\n",
       "11605  0.624    NaN  0.624  0.624  0.734\n",
       "\n",
       "[11606 rows x 5 columns]"
      ]
     },
     "execution_count": 11,
     "metadata": {},
     "output_type": "execute_result"
    }
   ],
   "source": [
    "nullCol= []\n",
    "for col in data.columns:\n",
    "    if data[data[col].isnull()].shape[0] > 0:\n",
    "        nullCol.append(col)\n",
    "nullData = data[nullCol]\n",
    "nullData"
   ]
  },
  {
   "cell_type": "code",
   "execution_count": 12,
   "id": "680e550f",
   "metadata": {
    "scrolled": true
   },
   "outputs": [
    {
     "data": {
      "image/png": "[encoded data removed]",
      "text/plain": [
       "<Figure size 432x288 with 1 Axes>"
      ]
     },
     "metadata": {
      "needs_background": "light"
     },
     "output_type": "display_data"
    },
    {
     "data": {
      "image/png": "[encoded data removed]",
      "text/plain": [
       "<Figure size 432x288 with 1 Axes>"
      ]
     },
     "metadata": {
      "needs_background": "light"
     },
     "output_type": "display_data"
    },
    {
     "data": {
      "image/png": "[encoded data removed]",
      "text/plain": [
       "<Figure size 432x288 with 1 Axes>"
      ]
     },
     "metadata": {
      "needs_background": "light"
     },
     "output_type": "display_data"
    },
    {
     "data": {
      "image/png": "[encoded data removed]",
      "text/plain": [
       "<Figure size 432x288 with 1 Axes>"
      ]
     },
     "metadata": {
      "needs_background": "light"
     },
     "output_type": "display_data"
    },
    {
     "data": {
      "image/png": "[encoded data removed]",
      "text/plain": [
       "<Figure size 432x288 with 1 Axes>"
      ]
     },
     "metadata": {
      "needs_background": "light"
     },
     "output_type": "display_data"
    }
   ],
   "source": [
    "#Исходные графики рассматриваемых столбцов\n",
    "for col in nullData:\n",
    "    plt.hist(data[col],50)\n",
    "    plt.xlabel(col)\n",
    "    plt.show()"
   ]
  },
  {
   "cell_type": "code",
   "execution_count": 12,
   "id": "c84cce1a",
   "metadata": {},
   "outputs": [],
   "source": [
    "#Локальное заполнение пропусков\n",
    "def test_num_impute(strategy_param, col):\n",
    "    imp_num=SimpleImputer(strategy=strategy_param)\n",
    "    indicator = MissingIndicator()\n",
    "    mask_missing_values_only = indicator.fit_transform(nullData[[col]])\n",
    "    data_num_imp=imp_num.fit_transform(nullData[[col]])\n",
    "    return data_num_imp[mask_missing_values_only]"
   ]
  },
  {
   "cell_type": "code",
   "execution_count": 13,
   "id": "5d7d5d06",
   "metadata": {},
   "outputs": [
    {
     "data": {
      "text/plain": [
       "array([0.43605791, 0.43605791, 0.43605791, 0.43605791, 0.43605791,\n",
       "       0.43605791, 0.43605791, 0.43605791, 0.43605791, 0.43605791,\n",
       "       0.43605791, 0.43605791, 0.43605791, 0.43605791, 0.43605791,\n",
       "       0.43605791, 0.43605791, 0.43605791, 0.43605791, 0.43605791,\n",
       "       0.43605791, 0.43605791, 0.43605791, 0.43605791, 0.43605791,\n",
       "       0.43605791, 0.43605791, 0.43605791, 0.43605791, 0.43605791,\n",
       "       0.43605791, 0.43605791, 0.43605791, 0.43605791, 0.43605791,\n",
       "       0.43605791, 0.43605791, 0.43605791, 0.43605791, 0.43605791,\n",
       "       0.43605791, 0.43605791, 0.43605791, 0.43605791, 0.43605791,\n",
       "       0.43605791, 0.43605791, 0.43605791, 0.43605791, 0.43605791,\n",
       "       0.43605791, 0.43605791, 0.43605791])"
      ]
     },
     "execution_count": 13,
     "metadata": {},
     "output_type": "execute_result"
    }
   ],
   "source": [
    "test_num_impute(\"mean\",nullData.columns[0])"
   ]
  },
  {
   "cell_type": "code",
   "execution_count": 14,
   "id": "86c00283",
   "metadata": {},
   "outputs": [
    {
     "data": {
      "text/plain": [
       "array([0.328, 0.328, 0.328, ..., 0.328, 0.328, 0.328])"
      ]
     },
     "execution_count": 14,
     "metadata": {},
     "output_type": "execute_result"
    }
   ],
   "source": [
    "test_num_impute(\"median\",nullData.columns[1])"
   ]
  },
  {
   "cell_type": "code",
   "execution_count": 15,
   "id": "fe7d29f9",
   "metadata": {},
   "outputs": [
    {
     "data": {
      "text/plain": [
       "array([0.46879242, 0.46879242, 0.46879242, 0.46879242, 0.46879242,\n",
       "       0.46879242, 0.46879242, 0.46879242, 0.46879242, 0.46879242,\n",
       "       0.46879242, 0.46879242, 0.46879242, 0.46879242, 0.46879242,\n",
       "       0.46879242, 0.46879242, 0.46879242, 0.46879242, 0.46879242,\n",
       "       0.46879242, 0.46879242, 0.46879242, 0.46879242, 0.46879242,\n",
       "       0.46879242, 0.46879242, 0.46879242, 0.46879242, 0.46879242,\n",
       "       0.46879242, 0.46879242, 0.46879242, 0.46879242, 0.46879242,\n",
       "       0.46879242, 0.46879242, 0.46879242, 0.46879242, 0.46879242,\n",
       "       0.46879242, 0.46879242, 0.46879242, 0.46879242, 0.46879242,\n",
       "       0.46879242, 0.46879242, 0.46879242, 0.46879242, 0.46879242,\n",
       "       0.46879242, 0.46879242, 0.46879242, 0.46879242, 0.46879242,\n",
       "       0.46879242, 0.46879242, 0.46879242, 0.46879242, 0.46879242,\n",
       "       0.46879242, 0.46879242, 0.46879242, 0.46879242, 0.46879242,\n",
       "       0.46879242, 0.46879242, 0.46879242, 0.46879242, 0.46879242,\n",
       "       0.46879242, 0.46879242, 0.46879242, 0.46879242, 0.46879242,\n",
       "       0.46879242, 0.46879242, 0.46879242, 0.46879242, 0.46879242,\n",
       "       0.46879242, 0.46879242, 0.46879242, 0.46879242, 0.46879242,\n",
       "       0.46879242, 0.46879242, 0.46879242, 0.46879242, 0.46879242,\n",
       "       0.46879242, 0.46879242, 0.46879242, 0.46879242, 0.46879242,\n",
       "       0.46879242, 0.46879242, 0.46879242, 0.46879242, 0.46879242,\n",
       "       0.46879242, 0.46879242])"
      ]
     },
     "execution_count": 15,
     "metadata": {},
     "output_type": "execute_result"
    }
   ],
   "source": [
    "test_num_impute(\"mean\",nullData.columns[2])"
   ]
  },
  {
   "cell_type": "code",
   "execution_count": 16,
   "id": "da20cf67",
   "metadata": {},
   "outputs": [
    {
     "data": {
      "text/plain": [
       "array([0.486, 0.486, 0.486, 0.486, 0.486, 0.486, 0.486, 0.486, 0.486,\n",
       "       0.486, 0.486, 0.486, 0.486, 0.486, 0.486, 0.486, 0.486, 0.486,\n",
       "       0.486, 0.486, 0.486, 0.486, 0.486, 0.486, 0.486, 0.486, 0.486,\n",
       "       0.486, 0.486, 0.486, 0.486, 0.486, 0.486, 0.486, 0.486, 0.486,\n",
       "       0.486, 0.486, 0.486, 0.486, 0.486, 0.486, 0.486, 0.486, 0.486,\n",
       "       0.486, 0.486, 0.486, 0.486, 0.486, 0.486, 0.486, 0.486])"
      ]
     },
     "execution_count": 16,
     "metadata": {},
     "output_type": "execute_result"
    }
   ],
   "source": [
    " test_num_impute(\"median\",nullData.columns[3])"
   ]
  },
  {
   "cell_type": "code",
   "execution_count": 17,
   "id": "d43eecd7",
   "metadata": {},
   "outputs": [
    {
     "data": {
      "text/plain": [
       "array([0.752, 0.752, 0.752, 0.752, 0.752, 0.752, 0.752, 0.752, 0.752,\n",
       "       0.752, 0.752, 0.752, 0.752, 0.752, 0.752, 0.752, 0.752, 0.752,\n",
       "       0.752, 0.752, 0.752, 0.752, 0.752, 0.752, 0.752, 0.752, 0.752,\n",
       "       0.752, 0.752, 0.752, 0.752, 0.752, 0.752, 0.752, 0.752, 0.752,\n",
       "       0.752, 0.752, 0.752, 0.752, 0.752, 0.752, 0.752, 0.752, 0.752,\n",
       "       0.752, 0.752, 0.752, 0.752, 0.752, 0.752, 0.752, 0.752, 0.752,\n",
       "       0.752, 0.752, 0.752, 0.752, 0.752, 0.752, 0.752, 0.752, 0.752,\n",
       "       0.752, 0.752, 0.752, 0.752, 0.752, 0.752, 0.752, 0.752, 0.752,\n",
       "       0.752, 0.752, 0.752, 0.752, 0.752, 0.752, 0.752, 0.752, 0.752,\n",
       "       0.752, 0.752, 0.752, 0.752, 0.752, 0.752, 0.752, 0.752, 0.752,\n",
       "       0.752, 0.752, 0.752, 0.752, 0.752, 0.752, 0.752, 0.752, 0.752,\n",
       "       0.752, 0.752, 0.752, 0.752, 0.752, 0.752, 0.752, 0.752, 0.752,\n",
       "       0.752, 0.752, 0.752, 0.752, 0.752, 0.752, 0.752, 0.752, 0.752,\n",
       "       0.752, 0.752, 0.752, 0.752, 0.752, 0.752, 0.752, 0.752, 0.752,\n",
       "       0.752, 0.752, 0.752, 0.752, 0.752, 0.752, 0.752, 0.752, 0.752,\n",
       "       0.752, 0.752, 0.752, 0.752, 0.752, 0.752, 0.752, 0.752, 0.752,\n",
       "       0.752, 0.752, 0.752, 0.752, 0.752, 0.752, 0.752, 0.752, 0.752,\n",
       "       0.752, 0.752, 0.752, 0.752, 0.752, 0.752, 0.752, 0.752, 0.752,\n",
       "       0.752, 0.752, 0.752, 0.752, 0.752, 0.752, 0.752, 0.752, 0.752,\n",
       "       0.752, 0.752, 0.752, 0.752, 0.752, 0.752, 0.752, 0.752, 0.752,\n",
       "       0.752, 0.752, 0.752, 0.752, 0.752, 0.752, 0.752, 0.752, 0.752,\n",
       "       0.752, 0.752, 0.752, 0.752, 0.752, 0.752, 0.752, 0.752, 0.752,\n",
       "       0.752, 0.752, 0.752, 0.752, 0.752, 0.752, 0.752, 0.752, 0.752,\n",
       "       0.752, 0.752, 0.752, 0.752, 0.752, 0.752, 0.752, 0.752, 0.752,\n",
       "       0.752, 0.752, 0.752, 0.752, 0.752, 0.752, 0.752, 0.752, 0.752,\n",
       "       0.752, 0.752, 0.752, 0.752, 0.752, 0.752, 0.752, 0.752, 0.752,\n",
       "       0.752, 0.752, 0.752, 0.752, 0.752, 0.752, 0.752, 0.752, 0.752,\n",
       "       0.752, 0.752, 0.752, 0.752, 0.752, 0.752, 0.752, 0.752, 0.752,\n",
       "       0.752, 0.752, 0.752, 0.752, 0.752, 0.752, 0.752, 0.752, 0.752,\n",
       "       0.752, 0.752, 0.752, 0.752, 0.752, 0.752, 0.752, 0.752, 0.752,\n",
       "       0.752, 0.752, 0.752, 0.752, 0.752, 0.752, 0.752, 0.752, 0.752,\n",
       "       0.752, 0.752, 0.752, 0.752, 0.752, 0.752, 0.752, 0.752, 0.752,\n",
       "       0.752, 0.752, 0.752, 0.752, 0.752, 0.752, 0.752, 0.752, 0.752,\n",
       "       0.752, 0.752, 0.752, 0.752, 0.752, 0.752, 0.752, 0.752, 0.752,\n",
       "       0.752, 0.752, 0.752, 0.752, 0.752, 0.752, 0.752, 0.752, 0.752,\n",
       "       0.752, 0.752, 0.752, 0.752, 0.752, 0.752, 0.752, 0.752, 0.752,\n",
       "       0.752, 0.752, 0.752, 0.752, 0.752, 0.752, 0.752, 0.752, 0.752,\n",
       "       0.752, 0.752, 0.752, 0.752, 0.752, 0.752, 0.752, 0.752, 0.752,\n",
       "       0.752, 0.752, 0.752, 0.752, 0.752, 0.752, 0.752, 0.752, 0.752,\n",
       "       0.752, 0.752, 0.752, 0.752, 0.752, 0.752, 0.752, 0.752, 0.752,\n",
       "       0.752, 0.752, 0.752, 0.752, 0.752, 0.752, 0.752, 0.752, 0.752,\n",
       "       0.752, 0.752, 0.752, 0.752, 0.752, 0.752, 0.752, 0.752, 0.752,\n",
       "       0.752, 0.752, 0.752, 0.752, 0.752, 0.752, 0.752, 0.752, 0.752,\n",
       "       0.752, 0.752, 0.752, 0.752, 0.752, 0.752, 0.752, 0.752, 0.752,\n",
       "       0.752, 0.752, 0.752, 0.752, 0.752, 0.752, 0.752, 0.752, 0.752,\n",
       "       0.752, 0.752, 0.752, 0.752, 0.752, 0.752, 0.752, 0.752, 0.752,\n",
       "       0.752, 0.752, 0.752, 0.752, 0.752, 0.752, 0.752, 0.752, 0.752,\n",
       "       0.752, 0.752, 0.752, 0.752, 0.752, 0.752, 0.752, 0.752, 0.752,\n",
       "       0.752, 0.752, 0.752, 0.752, 0.752, 0.752, 0.752, 0.752, 0.752,\n",
       "       0.752, 0.752, 0.752, 0.752, 0.752, 0.752, 0.752, 0.752, 0.752,\n",
       "       0.752, 0.752, 0.752, 0.752, 0.752, 0.752, 0.752, 0.752, 0.752,\n",
       "       0.752, 0.752, 0.752, 0.752, 0.752, 0.752, 0.752, 0.752, 0.752,\n",
       "       0.752, 0.752, 0.752, 0.752, 0.752, 0.752, 0.752, 0.752, 0.752,\n",
       "       0.752, 0.752, 0.752, 0.752, 0.752, 0.752, 0.752, 0.752, 0.752,\n",
       "       0.752, 0.752, 0.752, 0.752, 0.752, 0.752, 0.752])"
      ]
     },
     "execution_count": 17,
     "metadata": {},
     "output_type": "execute_result"
    }
   ],
   "source": [
    "test_num_impute(\"median\",nullData.columns[4])"
   ]
  },
  {
   "cell_type": "code",
   "execution_count": 13,
   "id": "00ddb7f1",
   "metadata": {
    "scrolled": true
   },
   "outputs": [
    {
     "data": {
      "image/png": "[encoded data removed]",
      "text/plain": [
       "<Figure size 432x288 with 1 Axes>"
      ]
     },
     "metadata": {
      "needs_background": "light"
     },
     "output_type": "display_data"
    },
    {
     "data": {
      "image/png": "[encoded data removed]",
      "text/plain": [
       "<Figure size 432x288 with 1 Axes>"
      ]
     },
     "metadata": {
      "needs_background": "light"
     },
     "output_type": "display_data"
    },
    {
     "data": {
      "image/png": "[encoded data removed]",
      "text/plain": [
       "<Figure size 432x288 with 1 Axes>"
      ]
     },
     "metadata": {
      "needs_background": "light"
     },
     "output_type": "display_data"
    },
    {
     "data": {
      "image/png": "[encoded data removed]",
      "text/plain": [
       "<Figure size 432x288 with 1 Axes>"
      ]
     },
     "metadata": {
      "needs_background": "light"
     },
     "output_type": "display_data"
    },
    {
     "data": {
      "image/png": "[encoded data removed]",
      "text/plain": [
       "<Figure size 432x288 with 1 Axes>"
      ]
     },
     "metadata": {
      "needs_background": "light"
     },
     "output_type": "display_data"
    }
   ],
   "source": [
    "#Полученные графики после заполнения пустых значений\n",
    "for col in nullData:\n",
    "    plt.hist(data[col],50)\n",
    "    plt.xlabel(col)\n",
    "    plt.show()"
   ]
  },
  {
   "cell_type": "markdown",
   "id": "c2fef84f",
   "metadata": {},
   "source": [
    "# 2) Кодирование категориальных признаков"
   ]
  },
  {
   "cell_type": "markdown",
   "id": "8b17b732",
   "metadata": {},
   "source": [
    "### LabelEncoder"
   ]
  },
  {
   "cell_type": "markdown",
   "id": "52a5495e",
   "metadata": {},
   "source": [
    "Для этой задачи возмём датасет информации о посетителях библиотеки"
   ]
  },
  {
   "cell_type": "code",
   "execution_count": 14,
   "id": "e59ec984",
   "metadata": {},
   "outputs": [],
   "source": [
    "data = pd.read_csv(\"Library_Usage.csv\")"
   ]
  },
  {
   "cell_type": "code",
   "execution_count": 15,
   "id": "b652df97",
   "metadata": {},
   "outputs": [
    {
     "name": "stdout",
     "output_type": "stream",
     "text": [
      "Колонка Age Range. Тип данных object. Количество пустых значений 215, 0.05%.\n",
      "Колонка Home Library Code. Тип данных object. Количество пустых значений 40, 0.01%.\n"
     ]
    }
   ],
   "source": [
    "#Определение пустых значений\n",
    "cat_cols = []\n",
    "for col in data.columns:\n",
    "    # Количество пустых значений \n",
    "    temp_null_count = data[data[col].isnull()].shape[0]\n",
    "    dt = str(data[col].dtype)\n",
    "    if temp_null_count>0 and (dt=='object'):\n",
    "        cat_cols.append(col)\n",
    "        temp_perc = round((temp_null_count / data.shape[0]) * 100.0, 2)\n",
    "        print('Колонка {}. Тип данных {}. Количество пустых значений {}, {}%.'.format(col, dt, temp_null_count, temp_perc))"
   ]
  },
  {
   "cell_type": "code",
   "execution_count": 16,
   "id": "d017091e",
   "metadata": {},
   "outputs": [
    {
     "data": {
      "text/plain": [
       "array(['20 to 24 years', '25 to 34 years', '45 to 54 years',\n",
       "       '65 to 74 years', '60 to 64 years', '35 to 44 years', nan,\n",
       "       '55 to 59 years', '10 to 19 years', '0 to 9 years',\n",
       "       '75 years and over'], dtype=object)"
      ]
     },
     "execution_count": 16,
     "metadata": {},
     "output_type": "execute_result"
    }
   ],
   "source": [
    "#Найдём уникальные значения столбца\n",
    "data[\"Age Range\"].unique()"
   ]
  },
  {
   "cell_type": "code",
   "execution_count": 17,
   "id": "9a3264f3",
   "metadata": {},
   "outputs": [],
   "source": [
    "#Кодирование \n",
    "le = LabelEncoder()\n",
    "cat_enc_le = le.fit_transform(data[\"Age Range\"])"
   ]
  },
  {
   "cell_type": "code",
   "execution_count": 18,
   "id": "b9b52aa8",
   "metadata": {},
   "outputs": [
    {
     "data": {
      "text/plain": [
       "array([ 0,  1,  2,  3,  4,  5,  6,  7,  8,  9, 10])"
      ]
     },
     "execution_count": 18,
     "metadata": {},
     "output_type": "execute_result"
    }
   ],
   "source": [
    "#Новые уникальные значения столбца\n",
    "np.unique(cat_enc_le)"
   ]
  },
  {
   "cell_type": "code",
   "execution_count": 19,
   "id": "c0116ef9",
   "metadata": {},
   "outputs": [
    {
     "data": {
      "text/plain": [
       "array(['0 to 9 years', '10 to 19 years', '20 to 24 years',\n",
       "       '25 to 34 years'], dtype=object)"
      ]
     },
     "execution_count": 19,
     "metadata": {},
     "output_type": "execute_result"
    }
   ],
   "source": [
    "#Раскодировка\n",
    "le.inverse_transform([0, 1, 2, 3])"
   ]
  },
  {
   "cell_type": "markdown",
   "id": "f4fa4a50",
   "metadata": {},
   "source": [
    "### OneHotEncoder"
   ]
  },
  {
   "cell_type": "code",
   "execution_count": 20,
   "id": "ac20b34b",
   "metadata": {},
   "outputs": [
    {
     "data": {
      "text/plain": [
       "array(['P1', 'S7', 'X', 'M2', 'C2', 'P5', 'A5', 'M6', 'P7', 'P3', 'M4',\n",
       "       'N6', 'O7', 'P9', 'R3', 'YB', 'M8', 'G6', 'E9', 'I5', 'W2', 'O2',\n",
       "       'G4', 'B4', 'V3', 'W4', 'B2', 'N4', 'E7', 'YB4', 'YLW', 'YB9',\n",
       "       'G4AAA', 'YJJ', 'R3J', 'YB2', 'XFFL', 'B4AAA', 'S7J', 'YB1', 'YB7',\n",
       "       'B2AAA', 'YB8', 'O2AAA', 'YB3', 'XFSAA', 'M8AAA', nan, 'N6AAA',\n",
       "       'C2J', 'NONE', 'M6AAA', 'YJJAA', 'E9AAA', 'P1AAA', 'YB6', 'W2AAA',\n",
       "       'B2AZZ', 'M4AAA', 'P3AAA', 'N4AAA', 'P7J', 'I7', 'M2AAA', 'YLWAA',\n",
       "       'O7AAA', 'YBJ', 'S7AAA', 'M6ABU', 'P7AAA', 'R3AAA', 'YB5', 'P1J',\n",
       "       'YB10', 'M8J', 'N6J', 'AQUIS', 'E7J', 'W2J', 'O7J'], dtype=object)"
      ]
     },
     "execution_count": 20,
     "metadata": {},
     "output_type": "execute_result"
    }
   ],
   "source": [
    "#Найдём уникальные значения столбца\n",
    "data[\"Home Library Code\"].unique()"
   ]
  },
  {
   "cell_type": "code",
   "execution_count": 26,
   "id": "e9558a2a",
   "metadata": {},
   "outputs": [],
   "source": [
    "#Кодирование\n",
    "ohe = OneHotEncoder()\n",
    "cat_enc_ohe = ohe.fit_transform(data[[\"Home Library Code\"]])"
   ]
  },
  {
   "cell_type": "code",
   "execution_count": 28,
   "id": "496fb2ca",
   "metadata": {},
   "outputs": [
    {
     "data": {
      "text/plain": [
       "matrix([[0., 0., 0., 0., 0., 0., 0., 0., 0., 0., 0., 0., 0., 0., 0., 0.,\n",
       "         0., 0., 0., 0., 0., 0., 0., 0., 0., 0., 0., 0., 0., 0., 0., 0.,\n",
       "         0., 0., 0., 0., 0., 0., 0., 0., 0., 0., 0., 0., 0., 0., 0., 0.,\n",
       "         0., 0., 0., 0., 1., 0., 0., 0., 0., 0., 0., 0., 0., 0., 0., 0.,\n",
       "         0., 0., 0., 0., 0., 0., 0., 0., 0., 0., 0., 0., 0., 0., 0., 0.],\n",
       "        [0., 0., 0., 0., 0., 0., 0., 0., 0., 0., 0., 0., 0., 0., 0., 0.,\n",
       "         0., 0., 0., 0., 0., 0., 0., 0., 0., 0., 0., 0., 0., 0., 0., 0.,\n",
       "         0., 0., 0., 0., 0., 0., 0., 1., 0., 0., 0., 0., 0., 0., 0., 0.,\n",
       "         0., 0., 0., 0., 0., 0., 0., 0., 0., 0., 0., 0., 0., 0., 0., 0.,\n",
       "         0., 0., 0., 0., 0., 0., 0., 0., 0., 0., 0., 0., 0., 0., 0., 0.],\n",
       "        [0., 0., 0., 0., 0., 0., 0., 0., 0., 0., 0., 0., 0., 0., 0., 0.,\n",
       "         0., 0., 0., 0., 0., 0., 0., 0., 0., 0., 0., 0., 0., 0., 0., 0.,\n",
       "         0., 0., 0., 0., 0., 0., 0., 0., 0., 0., 0., 0., 0., 0., 0., 0.,\n",
       "         0., 0., 0., 0., 0., 0., 0., 0., 0., 0., 0., 0., 1., 0., 0., 0.,\n",
       "         0., 0., 0., 0., 0., 0., 0., 0., 0., 0., 0., 0., 0., 0., 0., 0.],\n",
       "        [0., 0., 0., 0., 0., 0., 0., 0., 0., 0., 0., 0., 0., 0., 0., 0.,\n",
       "         0., 0., 1., 0., 0., 0., 0., 0., 0., 0., 0., 0., 0., 0., 0., 0.,\n",
       "         0., 0., 0., 0., 0., 0., 0., 0., 0., 0., 0., 0., 0., 0., 0., 0.,\n",
       "         0., 0., 0., 0., 0., 0., 0., 0., 0., 0., 0., 0., 0., 0., 0., 0.,\n",
       "         0., 0., 0., 0., 0., 0., 0., 0., 0., 0., 0., 0., 0., 0., 0., 0.]])"
      ]
     },
     "execution_count": 28,
     "metadata": {},
     "output_type": "execute_result"
    }
   ],
   "source": [
    "cat_enc_ohe.todense()[1:5]"
   ]
  },
  {
   "cell_type": "code",
   "execution_count": 29,
   "id": "139a5a3a",
   "metadata": {},
   "outputs": [
    {
     "data": {
      "text/html": [
       "<div>\n",
       "<style scoped>\n",
       "    .dataframe tbody tr th:only-of-type {\n",
       "        vertical-align: middle;\n",
       "    }\n",
       "\n",
       "    .dataframe tbody tr th {\n",
       "        vertical-align: top;\n",
       "    }\n",
       "\n",
       "    .dataframe thead th {\n",
       "        text-align: right;\n",
       "    }\n",
       "</style>\n",
       "<table border=\"1\" class=\"dataframe\">\n",
       "  <thead>\n",
       "    <tr style=\"text-align: right;\">\n",
       "      <th></th>\n",
       "      <th>A5</th>\n",
       "      <th>AQUIS</th>\n",
       "      <th>B2</th>\n",
       "      <th>B2AAA</th>\n",
       "      <th>B2AZZ</th>\n",
       "      <th>B4</th>\n",
       "      <th>B4AAA</th>\n",
       "      <th>C2</th>\n",
       "      <th>C2J</th>\n",
       "      <th>E7</th>\n",
       "      <th>...</th>\n",
       "      <th>YB5</th>\n",
       "      <th>YB6</th>\n",
       "      <th>YB7</th>\n",
       "      <th>YB8</th>\n",
       "      <th>YB9</th>\n",
       "      <th>YBJ</th>\n",
       "      <th>YJJ</th>\n",
       "      <th>YJJAA</th>\n",
       "      <th>YLW</th>\n",
       "      <th>YLWAA</th>\n",
       "    </tr>\n",
       "  </thead>\n",
       "  <tbody>\n",
       "    <tr>\n",
       "      <th>0</th>\n",
       "      <td>0</td>\n",
       "      <td>0</td>\n",
       "      <td>0</td>\n",
       "      <td>0</td>\n",
       "      <td>0</td>\n",
       "      <td>0</td>\n",
       "      <td>0</td>\n",
       "      <td>0</td>\n",
       "      <td>0</td>\n",
       "      <td>0</td>\n",
       "      <td>...</td>\n",
       "      <td>0</td>\n",
       "      <td>0</td>\n",
       "      <td>0</td>\n",
       "      <td>0</td>\n",
       "      <td>0</td>\n",
       "      <td>0</td>\n",
       "      <td>0</td>\n",
       "      <td>0</td>\n",
       "      <td>0</td>\n",
       "      <td>0</td>\n",
       "    </tr>\n",
       "    <tr>\n",
       "      <th>1</th>\n",
       "      <td>0</td>\n",
       "      <td>0</td>\n",
       "      <td>0</td>\n",
       "      <td>0</td>\n",
       "      <td>0</td>\n",
       "      <td>0</td>\n",
       "      <td>0</td>\n",
       "      <td>0</td>\n",
       "      <td>0</td>\n",
       "      <td>0</td>\n",
       "      <td>...</td>\n",
       "      <td>0</td>\n",
       "      <td>0</td>\n",
       "      <td>0</td>\n",
       "      <td>0</td>\n",
       "      <td>0</td>\n",
       "      <td>0</td>\n",
       "      <td>0</td>\n",
       "      <td>0</td>\n",
       "      <td>0</td>\n",
       "      <td>0</td>\n",
       "    </tr>\n",
       "    <tr>\n",
       "      <th>2</th>\n",
       "      <td>0</td>\n",
       "      <td>0</td>\n",
       "      <td>0</td>\n",
       "      <td>0</td>\n",
       "      <td>0</td>\n",
       "      <td>0</td>\n",
       "      <td>0</td>\n",
       "      <td>0</td>\n",
       "      <td>0</td>\n",
       "      <td>0</td>\n",
       "      <td>...</td>\n",
       "      <td>0</td>\n",
       "      <td>0</td>\n",
       "      <td>0</td>\n",
       "      <td>0</td>\n",
       "      <td>0</td>\n",
       "      <td>0</td>\n",
       "      <td>0</td>\n",
       "      <td>0</td>\n",
       "      <td>0</td>\n",
       "      <td>0</td>\n",
       "    </tr>\n",
       "    <tr>\n",
       "      <th>3</th>\n",
       "      <td>0</td>\n",
       "      <td>0</td>\n",
       "      <td>0</td>\n",
       "      <td>0</td>\n",
       "      <td>0</td>\n",
       "      <td>0</td>\n",
       "      <td>0</td>\n",
       "      <td>0</td>\n",
       "      <td>0</td>\n",
       "      <td>0</td>\n",
       "      <td>...</td>\n",
       "      <td>0</td>\n",
       "      <td>0</td>\n",
       "      <td>0</td>\n",
       "      <td>0</td>\n",
       "      <td>0</td>\n",
       "      <td>0</td>\n",
       "      <td>0</td>\n",
       "      <td>0</td>\n",
       "      <td>0</td>\n",
       "      <td>0</td>\n",
       "    </tr>\n",
       "    <tr>\n",
       "      <th>4</th>\n",
       "      <td>0</td>\n",
       "      <td>0</td>\n",
       "      <td>0</td>\n",
       "      <td>0</td>\n",
       "      <td>0</td>\n",
       "      <td>0</td>\n",
       "      <td>0</td>\n",
       "      <td>0</td>\n",
       "      <td>0</td>\n",
       "      <td>0</td>\n",
       "      <td>...</td>\n",
       "      <td>0</td>\n",
       "      <td>0</td>\n",
       "      <td>0</td>\n",
       "      <td>0</td>\n",
       "      <td>0</td>\n",
       "      <td>0</td>\n",
       "      <td>0</td>\n",
       "      <td>0</td>\n",
       "      <td>0</td>\n",
       "      <td>0</td>\n",
       "    </tr>\n",
       "    <tr>\n",
       "      <th>...</th>\n",
       "      <td>...</td>\n",
       "      <td>...</td>\n",
       "      <td>...</td>\n",
       "      <td>...</td>\n",
       "      <td>...</td>\n",
       "      <td>...</td>\n",
       "      <td>...</td>\n",
       "      <td>...</td>\n",
       "      <td>...</td>\n",
       "      <td>...</td>\n",
       "      <td>...</td>\n",
       "      <td>...</td>\n",
       "      <td>...</td>\n",
       "      <td>...</td>\n",
       "      <td>...</td>\n",
       "      <td>...</td>\n",
       "      <td>...</td>\n",
       "      <td>...</td>\n",
       "      <td>...</td>\n",
       "      <td>...</td>\n",
       "      <td>...</td>\n",
       "    </tr>\n",
       "    <tr>\n",
       "      <th>423443</th>\n",
       "      <td>0</td>\n",
       "      <td>0</td>\n",
       "      <td>0</td>\n",
       "      <td>0</td>\n",
       "      <td>0</td>\n",
       "      <td>0</td>\n",
       "      <td>0</td>\n",
       "      <td>0</td>\n",
       "      <td>0</td>\n",
       "      <td>0</td>\n",
       "      <td>...</td>\n",
       "      <td>0</td>\n",
       "      <td>0</td>\n",
       "      <td>0</td>\n",
       "      <td>0</td>\n",
       "      <td>0</td>\n",
       "      <td>0</td>\n",
       "      <td>0</td>\n",
       "      <td>0</td>\n",
       "      <td>0</td>\n",
       "      <td>0</td>\n",
       "    </tr>\n",
       "    <tr>\n",
       "      <th>423444</th>\n",
       "      <td>0</td>\n",
       "      <td>0</td>\n",
       "      <td>0</td>\n",
       "      <td>0</td>\n",
       "      <td>0</td>\n",
       "      <td>0</td>\n",
       "      <td>0</td>\n",
       "      <td>0</td>\n",
       "      <td>0</td>\n",
       "      <td>0</td>\n",
       "      <td>...</td>\n",
       "      <td>0</td>\n",
       "      <td>0</td>\n",
       "      <td>0</td>\n",
       "      <td>0</td>\n",
       "      <td>0</td>\n",
       "      <td>0</td>\n",
       "      <td>0</td>\n",
       "      <td>0</td>\n",
       "      <td>0</td>\n",
       "      <td>0</td>\n",
       "    </tr>\n",
       "    <tr>\n",
       "      <th>423445</th>\n",
       "      <td>0</td>\n",
       "      <td>0</td>\n",
       "      <td>0</td>\n",
       "      <td>0</td>\n",
       "      <td>0</td>\n",
       "      <td>1</td>\n",
       "      <td>0</td>\n",
       "      <td>0</td>\n",
       "      <td>0</td>\n",
       "      <td>0</td>\n",
       "      <td>...</td>\n",
       "      <td>0</td>\n",
       "      <td>0</td>\n",
       "      <td>0</td>\n",
       "      <td>0</td>\n",
       "      <td>0</td>\n",
       "      <td>0</td>\n",
       "      <td>0</td>\n",
       "      <td>0</td>\n",
       "      <td>0</td>\n",
       "      <td>0</td>\n",
       "    </tr>\n",
       "    <tr>\n",
       "      <th>423446</th>\n",
       "      <td>0</td>\n",
       "      <td>0</td>\n",
       "      <td>0</td>\n",
       "      <td>0</td>\n",
       "      <td>0</td>\n",
       "      <td>0</td>\n",
       "      <td>0</td>\n",
       "      <td>0</td>\n",
       "      <td>0</td>\n",
       "      <td>0</td>\n",
       "      <td>...</td>\n",
       "      <td>0</td>\n",
       "      <td>0</td>\n",
       "      <td>0</td>\n",
       "      <td>0</td>\n",
       "      <td>0</td>\n",
       "      <td>0</td>\n",
       "      <td>0</td>\n",
       "      <td>0</td>\n",
       "      <td>0</td>\n",
       "      <td>0</td>\n",
       "    </tr>\n",
       "    <tr>\n",
       "      <th>423447</th>\n",
       "      <td>0</td>\n",
       "      <td>0</td>\n",
       "      <td>0</td>\n",
       "      <td>0</td>\n",
       "      <td>0</td>\n",
       "      <td>0</td>\n",
       "      <td>0</td>\n",
       "      <td>0</td>\n",
       "      <td>0</td>\n",
       "      <td>1</td>\n",
       "      <td>...</td>\n",
       "      <td>0</td>\n",
       "      <td>0</td>\n",
       "      <td>0</td>\n",
       "      <td>0</td>\n",
       "      <td>0</td>\n",
       "      <td>0</td>\n",
       "      <td>0</td>\n",
       "      <td>0</td>\n",
       "      <td>0</td>\n",
       "      <td>0</td>\n",
       "    </tr>\n",
       "  </tbody>\n",
       "</table>\n",
       "<p>423448 rows × 79 columns</p>\n",
       "</div>"
      ],
      "text/plain": [
       "        A5  AQUIS  B2  B2AAA  B2AZZ  B4  B4AAA  C2  C2J  E7  ...  YB5  YB6  \\\n",
       "0        0      0   0      0      0   0      0   0    0   0  ...    0    0   \n",
       "1        0      0   0      0      0   0      0   0    0   0  ...    0    0   \n",
       "2        0      0   0      0      0   0      0   0    0   0  ...    0    0   \n",
       "3        0      0   0      0      0   0      0   0    0   0  ...    0    0   \n",
       "4        0      0   0      0      0   0      0   0    0   0  ...    0    0   \n",
       "...     ..    ...  ..    ...    ...  ..    ...  ..  ...  ..  ...  ...  ...   \n",
       "423443   0      0   0      0      0   0      0   0    0   0  ...    0    0   \n",
       "423444   0      0   0      0      0   0      0   0    0   0  ...    0    0   \n",
       "423445   0      0   0      0      0   1      0   0    0   0  ...    0    0   \n",
       "423446   0      0   0      0      0   0      0   0    0   0  ...    0    0   \n",
       "423447   0      0   0      0      0   0      0   0    0   1  ...    0    0   \n",
       "\n",
       "        YB7  YB8  YB9  YBJ  YJJ  YJJAA  YLW  YLWAA  \n",
       "0         0    0    0    0    0      0    0      0  \n",
       "1         0    0    0    0    0      0    0      0  \n",
       "2         0    0    0    0    0      0    0      0  \n",
       "3         0    0    0    0    0      0    0      0  \n",
       "4         0    0    0    0    0      0    0      0  \n",
       "...     ...  ...  ...  ...  ...    ...  ...    ...  \n",
       "423443    0    0    0    0    0      0    0      0  \n",
       "423444    0    0    0    0    0      0    0      0  \n",
       "423445    0    0    0    0    0      0    0      0  \n",
       "423446    0    0    0    0    0      0    0      0  \n",
       "423447    0    0    0    0    0      0    0      0  \n",
       "\n",
       "[423448 rows x 79 columns]"
      ]
     },
     "execution_count": 29,
     "metadata": {},
     "output_type": "execute_result"
    }
   ],
   "source": [
    "#OHE в виде DataFrame\n",
    "pd.get_dummies(data[\"Home Library Code\"])"
   ]
  },
  {
   "cell_type": "markdown",
   "id": "ad1f6b40",
   "metadata": {},
   "source": [
    "# 3) Масштабирование данных"
   ]
  },
  {
   "cell_type": "markdown",
   "id": "11e45a0a",
   "metadata": {},
   "source": [
    "### MinMax масштабирование (от 0 до 1)"
   ]
  },
  {
   "cell_type": "markdown",
   "id": "a0d3c204",
   "metadata": {},
   "source": [
    "Для масштабирования снова возьмём датасет результаты игроков в баскетбол за несколько сезонов"
   ]
  },
  {
   "cell_type": "code",
   "execution_count": 21,
   "id": "981612e6",
   "metadata": {},
   "outputs": [],
   "source": [
    "data = pd.read_csv(\"combined_seasons.csv\")"
   ]
  },
  {
   "cell_type": "code",
   "execution_count": 22,
   "id": "04f4ccb3",
   "metadata": {},
   "outputs": [],
   "source": [
    "#Масштабирование\n",
    "sc1 = MinMaxScaler()\n",
    "sc1_data = sc1.fit_transform(data[['MP']])"
   ]
  },
  {
   "cell_type": "code",
   "execution_count": 23,
   "id": "a6a911f1",
   "metadata": {},
   "outputs": [
    {
     "data": {
      "image/png": "[encoded data removed]",
      "text/plain": [
       "<Figure size 432x288 with 1 Axes>"
      ]
     },
     "metadata": {
      "needs_background": "light"
     },
     "output_type": "display_data"
    }
   ],
   "source": [
    "plt.hist(data['MP'], 50)\n",
    "plt.show()"
   ]
  },
  {
   "cell_type": "code",
   "execution_count": 24,
   "id": "d7334f9a",
   "metadata": {},
   "outputs": [
    {
     "data": {
      "image/png": "[encoded data removed]",
      "text/plain": [
       "<Figure size 432x288 with 1 Axes>"
      ]
     },
     "metadata": {
      "needs_background": "light"
     },
     "output_type": "display_data"
    }
   ],
   "source": [
    "plt.hist(sc1_data, 50)\n",
    "plt.show()"
   ]
  },
  {
   "cell_type": "markdown",
   "id": "f3859747",
   "metadata": {},
   "source": [
    "### На основе Z-оценки"
   ]
  },
  {
   "cell_type": "code",
   "execution_count": 25,
   "id": "7f2d9a41",
   "metadata": {},
   "outputs": [],
   "source": [
    "sc2 = StandardScaler()\n",
    "sc2_data = sc2.fit_transform(data[['MP']])"
   ]
  },
  {
   "cell_type": "code",
   "execution_count": 26,
   "id": "1f8d080c",
   "metadata": {},
   "outputs": [
    {
     "data": {
      "image/png": "[encoded data removed]",
      "text/plain": [
       "<Figure size 432x288 with 1 Axes>"
      ]
     },
     "metadata": {
      "needs_background": "light"
     },
     "output_type": "display_data"
    }
   ],
   "source": [
    "plt.hist(sc2_data, 50)\n",
    "plt.show()"
   ]
  },
  {
   "cell_type": "code",
   "execution_count": null,
   "id": "2d3387f6",
   "metadata": {},
   "outputs": [],
   "source": []
  }
 ],
 "metadata": {
  "kernelspec": {
   "display_name": "Python 3 (ipykernel)",
   "language": "python",
   "name": "python3"
  },
  "language_info": {
   "codemirror_mode": {
    "name": "ipython",
    "version": 3
   },
   "file_extension": ".py",
   "mimetype": "text/x-python",
   "name": "python",
   "nbconvert_exporter": "python",
   "pygments_lexer": "ipython3",
   "version": "3.9.7"
  }
 },
 "nbformat": 4,
 "nbformat_minor": 5
}
